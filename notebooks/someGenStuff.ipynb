{
 "cells": [
  {
   "cell_type": "code",
   "execution_count": 12,
   "id": "8e00ce9b",
   "metadata": {},
   "outputs": [
    {
     "name": "stderr",
     "output_type": "stream",
     "text": [
      "/afs/cern.ch/work/h/hmei/myWorkspace/envs/lib/python3.9/site-packages/coffea/nanoevents/schemas/nanoaod.py:193: RuntimeWarning: Missing cross-reference index for FatJet_genJetAK8Idx => GenJetAK8\n",
      "  warnings.warn(\n",
      "/afs/cern.ch/work/h/hmei/myWorkspace/envs/lib/python3.9/site-packages/coffea/nanoevents/schemas/nanoaod.py:193: RuntimeWarning: Missing cross-reference index for FatJet_subJetIdx1 => SubJet\n",
      "  warnings.warn(\n",
      "/afs/cern.ch/work/h/hmei/myWorkspace/envs/lib/python3.9/site-packages/coffea/nanoevents/schemas/nanoaod.py:193: RuntimeWarning: Missing cross-reference index for FatJet_subJetIdx2 => SubJet\n",
      "  warnings.warn(\n"
     ]
    }
   ],
   "source": [
    "import numpy as np\n",
    "import awkward as ak\n",
    "\n",
    "from coffea.nanoevents import NanoEventsFactory\n",
    "\n",
    "fname = \"../tmp_inputs/test_HHggtautau_2018.root\"\n",
    "events = NanoEventsFactory.from_root(fname, entry_stop=10000).events()"
   ]
  },
  {
   "cell_type": "code",
   "execution_count": 19,
   "id": "b50d4269",
   "metadata": {},
   "outputs": [],
   "source": [
    "genTau = events.GenPart[ (abs(events.GenPart.pdgId) == 15) & (events.GenPart.status == 2)]"
   ]
  },
  {
   "cell_type": "code",
   "execution_count": 26,
   "id": "5c74554b",
   "metadata": {},
   "outputs": [
    {
     "name": "stdout",
     "output_type": "stream",
     "text": [
      "number of [2 3 4] genTau with stauts = 2, and their frequencies are [9852  144    4]\n"
     ]
    }
   ],
   "source": [
    "(unique, counts) = np.unique(ak.num(genTau).to_numpy(), return_counts=True)\n",
    "print (f\"number of {unique} genTau with stauts = 2, and their frequencies are {counts}\")"
   ]
  },
  {
   "cell_type": "markdown",
   "id": "d0e648a8",
   "metadata": {},
   "source": [
    "### what about requring distinct parent?"
   ]
  },
  {
   "cell_type": "code",
   "execution_count": 45,
   "id": "597f12a8",
   "metadata": {},
   "outputs": [],
   "source": [
    "genTau_fromH = genTau[genTau.distinctParent.pdgId == 25]"
   ]
  },
  {
   "cell_type": "code",
   "execution_count": 46,
   "id": "a2697bf7",
   "metadata": {},
   "outputs": [
    {
     "name": "stdout",
     "output_type": "stream",
     "text": [
      "number of [2] genTau with stauts = 2, and their frequencies are [10000]\n"
     ]
    }
   ],
   "source": [
    "(unique_fromH, counts_fromH) = np.unique(ak.num(genTau_fromH).to_numpy(), return_counts=True)\n",
    "print (f\"number of {unique_fromH} genTau with stauts = 2, and their frequencies are {counts_fromH}\")"
   ]
  },
  {
   "cell_type": "markdown",
   "id": "3d8d08d4",
   "metadata": {},
   "source": [
    "**Always 2 genParticle with abs(pdgID) = 15 and status = 2 and with distinct parent being a Higgs!**"
   ]
  },
  {
   "cell_type": "markdown",
   "id": "6faed042",
   "metadata": {},
   "source": [
    "### Tau decays to e or mu 35.2%, tau decays to hadronic 64.8%\n",
    "### assuming every genVisTau correspond to hadronic decay of tau\n",
    "\n",
    "- probablity to have at 0 genVisTau: 0.352*0.352 = 0.12\n",
    "- probablity to have at 2 genVisTau: 0.653*0.653 = 0.43\n",
    "- probablity to have at 1 genVisTau: 1-0.12-0.43 = 0.45"
   ]
  },
  {
   "cell_type": "code",
   "execution_count": 48,
   "id": "7419042a",
   "metadata": {},
   "outputs": [
    {
     "data": {
      "text/plain": [
       "<GenVisTauArray [[GenVisTau], ... [GenVisTau]] type='10000 * var * genVisTau'>"
      ]
     },
     "execution_count": 48,
     "metadata": {},
     "output_type": "execute_result"
    }
   ],
   "source": [
    "genVisTau = events.GenVisTau\n",
    "genVisTau"
   ]
  },
  {
   "cell_type": "code",
   "execution_count": 72,
   "id": "83306f70",
   "metadata": {},
   "outputs": [
    {
     "name": "stdout",
     "output_type": "stream",
     "text": [
      "number of [0 1 2 3 4], and their frequencies are [1503 4772 3720    4    1]\n"
     ]
    }
   ],
   "source": [
    "ak.num(genVisTau)\n",
    "(unique_genVisTau, counts_genVisTau) = np.unique(ak.num(genVisTau).to_numpy(), return_counts=True)\n",
    "print (f\"number of {unique_genVisTau}, and their frequencies are {counts_genVisTau}\")"
   ]
  },
  {
   "cell_type": "markdown",
   "id": "ec9ff80d",
   "metadata": {},
   "source": [
    "MORE OR LESS CONSISTENT WITH CALCULATION ABOVE...\n",
    "\n",
    "- Number of genVisTau more or less represent number of hadronic decay taus at gen-level"
   ]
  },
  {
   "cell_type": "code",
   "execution_count": 73,
   "id": "b218b9ea",
   "metadata": {},
   "outputs": [
    {
     "data": {
      "text/plain": [
       "[[-1],\n",
       " [22, 22],\n",
       " [22],\n",
       " [21, 16],\n",
       " [21],\n",
       " [1, 2],\n",
       " [111, 211],\n",
       " [22, -15],\n",
       " [3, -423],\n",
       " [111],\n",
       " [22, 22],\n",
       " [111, -211],\n",
       " [22],\n",
       " [],\n",
       " [2, 21],\n",
       " [-15],\n",
       " [-1, 2],\n",
       " [-15],\n",
       " [21],\n",
       " [None, None]]"
      ]
     },
     "execution_count": 73,
     "metadata": {},
     "output_type": "execute_result"
    }
   ],
   "source": [
    "ak.to_list(genVisTau.parent.pdgId[:20])"
   ]
  },
  {
   "cell_type": "code",
   "execution_count": 65,
   "id": "bdd5c588",
   "metadata": {},
   "outputs": [
    {
     "data": {
      "text/plain": [
       "<Array [[19], [15, 16], ... [28, 26], [29]] type='10000 * var * int32[parameters...'>"
      ]
     },
     "execution_count": 65,
     "metadata": {},
     "output_type": "execute_result"
    }
   ],
   "source": [
    "genVisTau.genPartIdxMother"
   ]
  },
  {
   "cell_type": "code",
   "execution_count": 78,
   "id": "f4ab723f",
   "metadata": {},
   "outputs": [
    {
     "data": {
      "text/html": [
       "<div>\n",
       "<style scoped>\n",
       "    .dataframe tbody tr th:only-of-type {\n",
       "        vertical-align: middle;\n",
       "    }\n",
       "\n",
       "    .dataframe tbody tr th {\n",
       "        vertical-align: top;\n",
       "    }\n",
       "\n",
       "    .dataframe thead th {\n",
       "        text-align: right;\n",
       "    }\n",
       "</style>\n",
       "<table border=\"1\" class=\"dataframe\">\n",
       "  <thead>\n",
       "    <tr style=\"text-align: right;\">\n",
       "      <th></th>\n",
       "      <th></th>\n",
       "      <th>childrenIdxG</th>\n",
       "      <th>distinctChildrenIdxG</th>\n",
       "      <th>distinctParentIdxG</th>\n",
       "      <th>eta</th>\n",
       "      <th>genPartIdxMother</th>\n",
       "      <th>genPartIdxMotherG</th>\n",
       "      <th>mass</th>\n",
       "      <th>pdgId</th>\n",
       "      <th>phi</th>\n",
       "      <th>pt</th>\n",
       "      <th>status</th>\n",
       "      <th>statusFlags</th>\n",
       "    </tr>\n",
       "    <tr>\n",
       "      <th>entry</th>\n",
       "      <th>subentry</th>\n",
       "      <th></th>\n",
       "      <th></th>\n",
       "      <th></th>\n",
       "      <th></th>\n",
       "      <th></th>\n",
       "      <th></th>\n",
       "      <th></th>\n",
       "      <th></th>\n",
       "      <th></th>\n",
       "      <th></th>\n",
       "      <th></th>\n",
       "      <th></th>\n",
       "    </tr>\n",
       "  </thead>\n",
       "  <tbody>\n",
       "    <tr>\n",
       "      <th rowspan=\"2\" valign=\"top\">0</th>\n",
       "      <th>0</th>\n",
       "      <td>2</td>\n",
       "      <td>2</td>\n",
       "      <td>-1</td>\n",
       "      <td>23232.000000</td>\n",
       "      <td>-1</td>\n",
       "      <td>-1</td>\n",
       "      <td>0.0</td>\n",
       "      <td>21</td>\n",
       "      <td>0.000000</td>\n",
       "      <td>0.000000</td>\n",
       "      <td>21</td>\n",
       "      <td>10625</td>\n",
       "    </tr>\n",
       "    <tr>\n",
       "      <th>1</th>\n",
       "      <td>3</td>\n",
       "      <td>3</td>\n",
       "      <td>-1</td>\n",
       "      <td>23232.000000</td>\n",
       "      <td>-1</td>\n",
       "      <td>-1</td>\n",
       "      <td>0.0</td>\n",
       "      <td>21</td>\n",
       "      <td>0.000000</td>\n",
       "      <td>0.000000</td>\n",
       "      <td>21</td>\n",
       "      <td>10625</td>\n",
       "    </tr>\n",
       "    <tr>\n",
       "      <th rowspan=\"2\" valign=\"top\">12</th>\n",
       "      <th>0</th>\n",
       "      <td>14</td>\n",
       "      <td>14</td>\n",
       "      <td>0</td>\n",
       "      <td>-0.781250</td>\n",
       "      <td>10</td>\n",
       "      <td>10</td>\n",
       "      <td>125.0</td>\n",
       "      <td>25</td>\n",
       "      <td>-0.424805</td>\n",
       "      <td>37.875000</td>\n",
       "      <td>62</td>\n",
       "      <td>26881</td>\n",
       "    </tr>\n",
       "    <tr>\n",
       "      <th>1</th>\n",
       "      <td>15</td>\n",
       "      <td>15</td>\n",
       "      <td>0</td>\n",
       "      <td>-0.781250</td>\n",
       "      <td>10</td>\n",
       "      <td>10</td>\n",
       "      <td>125.0</td>\n",
       "      <td>25</td>\n",
       "      <td>-0.424805</td>\n",
       "      <td>37.875000</td>\n",
       "      <td>62</td>\n",
       "      <td>26881</td>\n",
       "    </tr>\n",
       "    <tr>\n",
       "      <th rowspan=\"2\" valign=\"top\">13</th>\n",
       "      <th>0</th>\n",
       "      <td>16</td>\n",
       "      <td>16</td>\n",
       "      <td>0</td>\n",
       "      <td>2.265625</td>\n",
       "      <td>11</td>\n",
       "      <td>11</td>\n",
       "      <td>125.0</td>\n",
       "      <td>25</td>\n",
       "      <td>3.125000</td>\n",
       "      <td>85.500000</td>\n",
       "      <td>62</td>\n",
       "      <td>10497</td>\n",
       "    </tr>\n",
       "    <tr>\n",
       "      <th>1</th>\n",
       "      <td>17</td>\n",
       "      <td>17</td>\n",
       "      <td>0</td>\n",
       "      <td>2.265625</td>\n",
       "      <td>11</td>\n",
       "      <td>11</td>\n",
       "      <td>125.0</td>\n",
       "      <td>25</td>\n",
       "      <td>3.125000</td>\n",
       "      <td>85.500000</td>\n",
       "      <td>62</td>\n",
       "      <td>10497</td>\n",
       "    </tr>\n",
       "    <tr>\n",
       "      <th rowspan=\"3\" valign=\"top\">16</th>\n",
       "      <th>0</th>\n",
       "      <td>27</td>\n",
       "      <td>27</td>\n",
       "      <td>13</td>\n",
       "      <td>2.703125</td>\n",
       "      <td>13</td>\n",
       "      <td>13</td>\n",
       "      <td>0.0</td>\n",
       "      <td>15</td>\n",
       "      <td>2.578125</td>\n",
       "      <td>49.125000</td>\n",
       "      <td>2</td>\n",
       "      <td>12675</td>\n",
       "    </tr>\n",
       "    <tr>\n",
       "      <th>1</th>\n",
       "      <td>28</td>\n",
       "      <td>28</td>\n",
       "      <td>13</td>\n",
       "      <td>2.703125</td>\n",
       "      <td>13</td>\n",
       "      <td>13</td>\n",
       "      <td>0.0</td>\n",
       "      <td>15</td>\n",
       "      <td>2.578125</td>\n",
       "      <td>49.125000</td>\n",
       "      <td>2</td>\n",
       "      <td>12675</td>\n",
       "    </tr>\n",
       "    <tr>\n",
       "      <th>2</th>\n",
       "      <td>29</td>\n",
       "      <td>29</td>\n",
       "      <td>13</td>\n",
       "      <td>2.703125</td>\n",
       "      <td>13</td>\n",
       "      <td>13</td>\n",
       "      <td>0.0</td>\n",
       "      <td>15</td>\n",
       "      <td>2.578125</td>\n",
       "      <td>49.125000</td>\n",
       "      <td>2</td>\n",
       "      <td>12675</td>\n",
       "    </tr>\n",
       "    <tr>\n",
       "      <th rowspan=\"3\" valign=\"top\">17</th>\n",
       "      <th>0</th>\n",
       "      <td>24</td>\n",
       "      <td>24</td>\n",
       "      <td>13</td>\n",
       "      <td>0.750000</td>\n",
       "      <td>13</td>\n",
       "      <td>13</td>\n",
       "      <td>0.0</td>\n",
       "      <td>-15</td>\n",
       "      <td>-2.625000</td>\n",
       "      <td>50.625000</td>\n",
       "      <td>2</td>\n",
       "      <td>12675</td>\n",
       "    </tr>\n",
       "    <tr>\n",
       "      <th>1</th>\n",
       "      <td>25</td>\n",
       "      <td>25</td>\n",
       "      <td>13</td>\n",
       "      <td>0.750000</td>\n",
       "      <td>13</td>\n",
       "      <td>13</td>\n",
       "      <td>0.0</td>\n",
       "      <td>-15</td>\n",
       "      <td>-2.625000</td>\n",
       "      <td>50.625000</td>\n",
       "      <td>2</td>\n",
       "      <td>12675</td>\n",
       "    </tr>\n",
       "    <tr>\n",
       "      <th>2</th>\n",
       "      <td>26</td>\n",
       "      <td>26</td>\n",
       "      <td>13</td>\n",
       "      <td>0.750000</td>\n",
       "      <td>13</td>\n",
       "      <td>13</td>\n",
       "      <td>0.0</td>\n",
       "      <td>-15</td>\n",
       "      <td>-2.625000</td>\n",
       "      <td>50.625000</td>\n",
       "      <td>2</td>\n",
       "      <td>12675</td>\n",
       "    </tr>\n",
       "    <tr>\n",
       "      <th rowspan=\"2\" valign=\"top\">18</th>\n",
       "      <th>0</th>\n",
       "      <td>30</td>\n",
       "      <td>30</td>\n",
       "      <td>-1</td>\n",
       "      <td>-1.652344</td>\n",
       "      <td>-1</td>\n",
       "      <td>-1</td>\n",
       "      <td>0.0</td>\n",
       "      <td>3</td>\n",
       "      <td>0.875000</td>\n",
       "      <td>2.367188</td>\n",
       "      <td>71</td>\n",
       "      <td>8193</td>\n",
       "    </tr>\n",
       "    <tr>\n",
       "      <th>1</th>\n",
       "      <td>31</td>\n",
       "      <td>31</td>\n",
       "      <td>-1</td>\n",
       "      <td>-1.652344</td>\n",
       "      <td>-1</td>\n",
       "      <td>-1</td>\n",
       "      <td>0.0</td>\n",
       "      <td>3</td>\n",
       "      <td>0.875000</td>\n",
       "      <td>2.367188</td>\n",
       "      <td>71</td>\n",
       "      <td>8193</td>\n",
       "    </tr>\n",
       "    <tr>\n",
       "      <th rowspan=\"2\" valign=\"top\">20</th>\n",
       "      <th>0</th>\n",
       "      <td>32</td>\n",
       "      <td>32</td>\n",
       "      <td>-1</td>\n",
       "      <td>0.578125</td>\n",
       "      <td>-1</td>\n",
       "      <td>-1</td>\n",
       "      <td>0.0</td>\n",
       "      <td>1</td>\n",
       "      <td>0.714844</td>\n",
       "      <td>2.414062</td>\n",
       "      <td>71</td>\n",
       "      <td>8193</td>\n",
       "    </tr>\n",
       "    <tr>\n",
       "      <th>1</th>\n",
       "      <td>33</td>\n",
       "      <td>33</td>\n",
       "      <td>-1</td>\n",
       "      <td>0.578125</td>\n",
       "      <td>-1</td>\n",
       "      <td>-1</td>\n",
       "      <td>0.0</td>\n",
       "      <td>1</td>\n",
       "      <td>0.714844</td>\n",
       "      <td>2.414062</td>\n",
       "      <td>71</td>\n",
       "      <td>8193</td>\n",
       "    </tr>\n",
       "    <tr>\n",
       "      <th rowspan=\"2\" valign=\"top\">25</th>\n",
       "      <th>0</th>\n",
       "      <td>34</td>\n",
       "      <td>34</td>\n",
       "      <td>17</td>\n",
       "      <td>0.779297</td>\n",
       "      <td>17</td>\n",
       "      <td>17</td>\n",
       "      <td>0.0</td>\n",
       "      <td>111</td>\n",
       "      <td>-2.593750</td>\n",
       "      <td>6.484375</td>\n",
       "      <td>2</td>\n",
       "      <td>30270</td>\n",
       "    </tr>\n",
       "    <tr>\n",
       "      <th>1</th>\n",
       "      <td>35</td>\n",
       "      <td>35</td>\n",
       "      <td>17</td>\n",
       "      <td>0.779297</td>\n",
       "      <td>17</td>\n",
       "      <td>17</td>\n",
       "      <td>0.0</td>\n",
       "      <td>111</td>\n",
       "      <td>-2.593750</td>\n",
       "      <td>6.484375</td>\n",
       "      <td>2</td>\n",
       "      <td>30270</td>\n",
       "    </tr>\n",
       "  </tbody>\n",
       "</table>\n",
       "</div>"
      ],
      "text/plain": [
       "                childrenIdxG  distinctChildrenIdxG  distinctParentIdxG  \\\n",
       "entry subentry                                                           \n",
       "0     0                    2                     2                  -1   \n",
       "      1                    3                     3                  -1   \n",
       "12    0                   14                    14                   0   \n",
       "      1                   15                    15                   0   \n",
       "13    0                   16                    16                   0   \n",
       "      1                   17                    17                   0   \n",
       "16    0                   27                    27                  13   \n",
       "      1                   28                    28                  13   \n",
       "      2                   29                    29                  13   \n",
       "17    0                   24                    24                  13   \n",
       "      1                   25                    25                  13   \n",
       "      2                   26                    26                  13   \n",
       "18    0                   30                    30                  -1   \n",
       "      1                   31                    31                  -1   \n",
       "20    0                   32                    32                  -1   \n",
       "      1                   33                    33                  -1   \n",
       "25    0                   34                    34                  17   \n",
       "      1                   35                    35                  17   \n",
       "\n",
       "                         eta  genPartIdxMother  genPartIdxMotherG   mass  \\\n",
       "entry subentry                                                             \n",
       "0     0         23232.000000                -1                 -1    0.0   \n",
       "      1         23232.000000                -1                 -1    0.0   \n",
       "12    0            -0.781250                10                 10  125.0   \n",
       "      1            -0.781250                10                 10  125.0   \n",
       "13    0             2.265625                11                 11  125.0   \n",
       "      1             2.265625                11                 11  125.0   \n",
       "16    0             2.703125                13                 13    0.0   \n",
       "      1             2.703125                13                 13    0.0   \n",
       "      2             2.703125                13                 13    0.0   \n",
       "17    0             0.750000                13                 13    0.0   \n",
       "      1             0.750000                13                 13    0.0   \n",
       "      2             0.750000                13                 13    0.0   \n",
       "18    0            -1.652344                -1                 -1    0.0   \n",
       "      1            -1.652344                -1                 -1    0.0   \n",
       "20    0             0.578125                -1                 -1    0.0   \n",
       "      1             0.578125                -1                 -1    0.0   \n",
       "25    0             0.779297                17                 17    0.0   \n",
       "      1             0.779297                17                 17    0.0   \n",
       "\n",
       "                pdgId       phi         pt  status  statusFlags  \n",
       "entry subentry                                                   \n",
       "0     0            21  0.000000   0.000000      21        10625  \n",
       "      1            21  0.000000   0.000000      21        10625  \n",
       "12    0            25 -0.424805  37.875000      62        26881  \n",
       "      1            25 -0.424805  37.875000      62        26881  \n",
       "13    0            25  3.125000  85.500000      62        10497  \n",
       "      1            25  3.125000  85.500000      62        10497  \n",
       "16    0            15  2.578125  49.125000       2        12675  \n",
       "      1            15  2.578125  49.125000       2        12675  \n",
       "      2            15  2.578125  49.125000       2        12675  \n",
       "17    0           -15 -2.625000  50.625000       2        12675  \n",
       "      1           -15 -2.625000  50.625000       2        12675  \n",
       "      2           -15 -2.625000  50.625000       2        12675  \n",
       "18    0             3  0.875000   2.367188      71         8193  \n",
       "      1             3  0.875000   2.367188      71         8193  \n",
       "20    0             1  0.714844   2.414062      71         8193  \n",
       "      1             1  0.714844   2.414062      71         8193  \n",
       "25    0           111 -2.593750   6.484375       2        30270  \n",
       "      1           111 -2.593750   6.484375       2        30270  "
      ]
     },
     "execution_count": 78,
     "metadata": {},
     "output_type": "execute_result"
    }
   ],
   "source": [
    "ak.to_pandas(events.GenPart[0])"
   ]
  },
  {
   "cell_type": "markdown",
   "id": "fa10da56",
   "metadata": {},
   "source": [
    "but genPartIdx of genVisTau is messed up..., the problem might be coffea..."
   ]
  },
  {
   "cell_type": "markdown",
   "id": "0b42ff5d",
   "metadata": {},
   "source": [
    "## try non-coffea way of doing things"
   ]
  },
  {
   "cell_type": "code",
   "execution_count": 79,
   "id": "62a475bf",
   "metadata": {},
   "outputs": [],
   "source": [
    "import uproot\n",
    "file = uproot.open(fname)"
   ]
  },
  {
   "cell_type": "code",
   "execution_count": 82,
   "id": "eaf8d725",
   "metadata": {},
   "outputs": [],
   "source": [
    "tree = file['Events']"
   ]
  },
  {
   "cell_type": "code",
   "execution_count": 83,
   "id": "ff333a86",
   "metadata": {},
   "outputs": [
    {
     "data": {
      "text/plain": [
       "<Array [{GenPart: [, ... GenVisTau: []}] type='15817 * {\"GenPart\": var * {\"eta\":...'>"
      ]
     },
     "execution_count": 83,
     "metadata": {},
     "output_type": "execute_result"
    }
   ],
   "source": [
    "keys_to_save = tree.keys(filter_name = \"GenPart_*\") + tree.keys(filter_name = \"GenVisTau_*\")\n",
    "genStuff = file[\"Events\"].arrays(keys_to_save, library=\"ak\", how=\"zip\")\n",
    "genStuff"
   ]
  },
  {
   "cell_type": "code",
   "execution_count": 84,
   "id": "2d4dd82b",
   "metadata": {},
   "outputs": [
    {
     "data": {
      "text/plain": [
       "(<Array [[{eta: 0.729, mass: 0.82, ... []] type='15817 * var * {\"eta\": float32, \"...'>,\n",
       " <Array [[{eta: 2.32e+04, ... ] type='15817 * var * {\"eta\": float32, \"mass\": floa...'>)"
      ]
     },
     "execution_count": 84,
     "metadata": {},
     "output_type": "execute_result"
    }
   ],
   "source": [
    "gvt = genStuff.GenVisTau\n",
    "gp = genStuff.GenPart\n",
    "gvt, gp"
   ]
  },
  {
   "cell_type": "code",
   "execution_count": 87,
   "id": "af54f722",
   "metadata": {},
   "outputs": [
    {
     "data": {
      "text/plain": [
       "<Array [[19], [15, 16], ... [], [39], []] type='15817 * var * int32'>"
      ]
     },
     "execution_count": 87,
     "metadata": {},
     "output_type": "execute_result"
    }
   ],
   "source": [
    "gvt.genPartIdxMother"
   ]
  },
  {
   "cell_type": "markdown",
   "id": "3eb40893",
   "metadata": {},
   "source": [
    "- looks like a nanoaod bug"
   ]
  },
  {
   "cell_type": "code",
   "execution_count": 104,
   "id": "0b3fda02",
   "metadata": {},
   "outputs": [
    {
     "name": "stdout",
     "output_type": "stream",
     "text": [
      "fraction of events with 2 leptons from 2 taus decay: 0.12\n",
      "fraction of events with 1 leptons from 2 taus decay: 0.45\n",
      "fraction of events with 0 leptons from 2 taus decay: 0.43\n"
     ]
    }
   ],
   "source": [
    "values_lep_from_tau, counts_lep_from_tau = np.unique( ak.num( gp[ abs(gp[ gp[((abs(gp.pdgId) == 13) | (abs(gp.pdgId) == 11)) & (gp.status == 1)].genPartIdxMother].pdgId) == 15] ).to_numpy(), return_counts=True)\n",
    "print (f\"fraction of events with 2 leptons from 2 taus decay: {counts_lep_from_tau[2]/len(gp):0.2f}\")\n",
    "print (f\"fraction of events with 1 leptons from 2 taus decay: {counts_lep_from_tau[1]/len(gp):0.2f}\")\n",
    "print (f\"fraction of events with 0 leptons from 2 taus decay: {counts_lep_from_tau[0]/len(gp):0.2f}\")"
   ]
  }
 ],
 "metadata": {
  "kernelspec": {
   "display_name": "Python 3 (ipykernel)",
   "language": "python",
   "name": "python3"
  },
  "language_info": {
   "codemirror_mode": {
    "name": "ipython",
    "version": 3
   },
   "file_extension": ".py",
   "mimetype": "text/x-python",
   "name": "python",
   "nbconvert_exporter": "python",
   "pygments_lexer": "ipython3",
   "version": "3.9.6"
  }
 },
 "nbformat": 4,
 "nbformat_minor": 5
}
